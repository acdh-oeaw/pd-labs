{
 "cells": [
  {
   "cell_type": "markdown",
   "metadata": {},
   "source": [
    "<img src=\"dbpedia_getting_started.jpg\">\n",
    "\n",
    "# Experimental area for interacting with Parthenos Discovery platform\n",
    "\n",
    "Data notebooks are increasingly popular, as they offer \"in browser code execution\" and easy sharing and reproducing of algorithmis procedures.\n",
    "In the context of Parthenos Discovery, the Juypter notebooks provide more freedom as to postprocessing of the resulting data. For querying the data we use [SPARQL](https://www.w3.org/TR/sparql11-query/). https://parthenos.acdh-dev.oeaw.ac.at/\n",
    "\n",
    "\n",
    "Credits:\n",
    "Based on [notebooks from gastrodon](https://github.com/paulhoule/gastrodon/blob/master/notebooks/remote/Querying%20DBpedia.ipynb)\n",
    "\"My method is a deliberate combination of systematic analysis (looking at counts, methods that can applied to arbitrary predicates or classes) and opportunism (looking at topics that catch my eye.)\"\n"
   ]
  },
  {
   "cell_type": "code",
   "execution_count": null,
   "metadata": {},
   "outputs": [],
   "source": [
    "import sys\n",
    "from os.path import expanduser\n",
    "from gastrodon import RemoteEndpoint,QName,ttl,URIRef,inline\n",
    "import pandas as pd\n",
    "import json\n",
    "pd.options.display.width=120\n",
    "pd.options.display.max_colwidth=100"
   ]
  },
  {
   "cell_type": "markdown",
   "metadata": {},
   "source": [
    "First let's define a few prefixes for namespaces we will use:"
   ]
  },
  {
   "cell_type": "code",
   "execution_count": null,
   "metadata": {},
   "outputs": [],
   "source": [
    "prefixes=inline(\"\"\"\n",
    "    @prefix : <http://dbpedia.org/resource/> .\n",
    "    @prefix pe: <http://parthenos.d4science.org/CRMext/CRMpe.rdfs/> .\n",
    "    @prefix crm: <http://www.cidoc-crm.org/cidoc-crm/> .\n",
    "    @prefix crmdig: <http://www.ics.forth.gr/isl/CRMext/CRMdig.rdfs/> .\n",
    "\"\"\").graph"
   ]
  },
  {
   "cell_type": "markdown",
   "metadata": {},
   "source": [
    "Next we set up a SPARQL endpoint and register the above prefixes. \n",
    "Setting the base_uri helps to make the results more readable, by stripping the URI in the base_uri namespace.\n",
    "We leave the default_graph empty, because the data is grouped in many graphs (based on their provenance)."
   ]
  },
  {
   "cell_type": "code",
   "execution_count": null,
   "metadata": {},
   "outputs": [],
   "source": [
    "# for connecting to an endpoint with restricted access, you need to provide the credentials:\n",
    "#connection_data=json.load(open(expanduser(\"config.json\")))\n",
    "#connection_data[\"prefixes\"]=prefixes\n",
    "#endpoint=RemoteEndpoint(**connection_data)"
   ]
  },
  {
   "cell_type": "code",
   "execution_count": null,
   "metadata": {},
   "outputs": [],
   "source": [
    "# for ease of use a dedicated PARTHENOS endpoint is available that allows anonymous read-access (SELECT queries)\n",
    "endpoint=RemoteEndpoint(\n",
    "    \"https://triplestore-parthenos-cached.acdh-dev.oeaw.ac.at/parthenos-dev/sparql\"\n",
    "    ,default_graph=\"\"\n",
    "    ,prefixes=prefixes\n",
    "    ,base_uri=\"http://parthenos.d4science.org/handle/\"\n",
    ")"
   ]
  },
  {
   "cell_type": "markdown",
   "metadata": {},
   "source": [
    "## Counting Triples\n",
    "\n",
    "First let's count how many triples there are in the triple store, to get a first idea of the size of the overall dataset."
   ]
  },
  {
   "cell_type": "code",
   "execution_count": null,
   "metadata": {},
   "outputs": [],
   "source": [
    "count=endpoint.select(\"\"\"\n",
    "    SELECT (COUNT(*) AS ?count) { ?s ?p ?o .}\n",
    "\"\"\").at[0,\"count\"]\n",
    "format(count, \",\")"
   ]
  },
  {
   "cell_type": "markdown",
   "metadata": {},
   "source": [
    "## Counting Predicates\n",
    "\n",
    "A list of predicates and their frequency."
   ]
  },
  {
   "cell_type": "code",
   "execution_count": null,
   "metadata": {
    "scrolled": false
   },
   "outputs": [],
   "source": [
    "predicates=endpoint.select(\"\"\"\n",
    "    SELECT ?p (COUNT(*) AS ?count) { ?s ?p ?o .} GROUP BY ?p ORDER BY DESC(?count)\n",
    "\"\"\")\n",
    "predicates"
   ]
  },
  {
   "cell_type": "markdown",
   "metadata": {},
   "source": [
    "Just give me the number of distinct predicates used:"
   ]
  },
  {
   "cell_type": "code",
   "execution_count": null,
   "metadata": {
    "scrolled": true
   },
   "outputs": [],
   "source": [
    "endpoint.select(\"\"\"\n",
    "    SELECT (COUNT(*) AS ?count) { SELECT DISTINCT ?p { ?s ?p ?o .} }\n",
    "\"\"\")"
   ]
  },
  {
   "cell_type": "markdown",
   "metadata": {},
   "source": [
    "When you have a number of \"things\" ordered by how prevalent they are, a cumulative distribution function is a great nonparametric method of characterizing the statistics"
   ]
  },
  {
   "cell_type": "code",
   "execution_count": null,
   "metadata": {},
   "outputs": [],
   "source": [
    "predicates[\"dist\"]=predicates[\"count\"].cumsum()/count"
   ]
  },
  {
   "cell_type": "code",
   "execution_count": null,
   "metadata": {},
   "outputs": [],
   "source": [
    "%matplotlib inline\n",
    "predicates[\"dist\"].plot()"
   ]
  },
  {
   "cell_type": "code",
   "execution_count": null,
   "metadata": {},
   "outputs": [],
   "source": [
    "predicates[\"dist\"].head(10).plot()"
   ]
  },
  {
   "cell_type": "markdown",
   "metadata": {},
   "source": [
    "Top 10 predicates represent around 80% of the predicates in the dataset. Which are they?"
   ]
  },
  {
   "cell_type": "code",
   "execution_count": null,
   "metadata": {},
   "outputs": [],
   "source": [
    "predicates.head(10)"
   ]
  },
  {
   "cell_type": "markdown",
   "metadata": {},
   "source": [
    "And which are the least used properties then? \n",
    "Let's see those used less than 20 times:"
   ]
  },
  {
   "cell_type": "code",
   "execution_count": null,
   "metadata": {},
   "outputs": [],
   "source": [
    "rare_predicates = predicates[predicates['count']<20]\n",
    "rare_predicates"
   ]
  },
  {
   "cell_type": "markdown",
   "metadata": {},
   "source": [
    "# Classes"
   ]
  },
  {
   "cell_type": "markdown",
   "metadata": {},
   "source": [
    "Let's also get some numbers on the classes. How many instances of each class are there:"
   ]
  },
  {
   "cell_type": "code",
   "execution_count": null,
   "metadata": {},
   "outputs": [],
   "source": [
    "types=endpoint.select(\"\"\"\n",
    "    SELECT ?type (COUNT(*) AS ?count) { ?s a ?type .} GROUP BY ?type ORDER BY DESC(?count)\n",
    "\"\"\")\n",
    "types"
   ]
  },
  {
   "cell_type": "code",
   "execution_count": null,
   "metadata": {},
   "outputs": [],
   "source": [
    "endpoint.select(\"\"\"\n",
    "    SELECT (COUNT(*) AS ?count) { SELECT DISTINCT ?type { ?s a ?type .} }\n",
    "\"\"\")"
   ]
  },
  {
   "cell_type": "markdown",
   "metadata": {},
   "source": [
    "Show me just the CIDOC CRM classes:"
   ]
  },
  {
   "cell_type": "code",
   "execution_count": null,
   "metadata": {},
   "outputs": [],
   "source": [
    "types[types.index.str.startswith('crm:')]"
   ]
  },
  {
   "cell_type": "markdown",
   "metadata": {},
   "source": [
    "# Instances"
   ]
  },
  {
   "cell_type": "markdown",
   "metadata": {},
   "source": [
    "Let's have a look at instances of one class, say **crm:E38_Image**:"
   ]
  },
  {
   "cell_type": "code",
   "execution_count": null,
   "metadata": {
    "scrolled": true
   },
   "outputs": [],
   "source": [
    "images = endpoint.select(\"\"\"\n",
    "    SELECT ?img { \n",
    "        ?img a crm:E38_Image\n",
    "    } LIMIT 10\n",
    "\"\"\")\n",
    "images"
   ]
  },
  {
   "cell_type": "markdown",
   "metadata": {},
   "source": [
    "Render one of the images:"
   ]
  },
  {
   "cell_type": "code",
   "execution_count": null,
   "metadata": {},
   "outputs": [],
   "source": [
    "#from bs4 import BeautifulSoup\n",
    "from IPython.display import display, HTML\n",
    "#from uritools import urijoin\n",
    "\n",
    "HTML('<img src=\"{0}\">'.format(images.at[3,'img']))"
   ]
  },
  {
   "cell_type": "markdown",
   "metadata": {},
   "source": [
    "Or render  all ten images as thumbnails:"
   ]
  },
  {
   "cell_type": "code",
   "execution_count": null,
   "metadata": {},
   "outputs": [],
   "source": [
    "htmlimgs = \"\"\n",
    "for ix,row  in images.iterrows():    \n",
    "   htmlimgs = htmlimgs + '<img src=\"{0}\" style=\"float:left;height:80px;margin:1em;\">'.format(row[0])\n",
    "HTML(htmlimgs)"
   ]
  },
  {
   "cell_type": "markdown",
   "metadata": {},
   "source": [
    "Now I want to use a value from one result in the next query. (gastrodon library \"lets you use Python variables in your SPARQL queries simply by adding ?_ to the name of your variables\")"
   ]
  },
  {
   "cell_type": "code",
   "execution_count": null,
   "metadata": {},
   "outputs": [],
   "source": [
    "actors = endpoint.select(\"\"\"\n",
    "    SELECT ?actor { \n",
    "        ?actor a crm:E39_Actor.\n",
    "        ?actor rdfs:label ?label.\n",
    "    } LIMIT 10\n",
    "\"\"\")\n",
    "actor1 = actors.at[1,'actor']\n",
    "\n",
    "actor1_properties = endpoint.select(\"\"\"\n",
    "    SELECT ?p ?o { \n",
    "        ?_actor1 ?p ?o.\n",
    "    } LIMIT 10\n",
    "\"\"\")\n",
    "actor1_properties"
   ]
  }
 ],
 "metadata": {
  "kernelspec": {
   "display_name": "Python 3",
   "language": "python",
   "name": "python3"
  },
  "language_info": {
   "codemirror_mode": {
    "name": "ipython",
    "version": 3
   },
   "file_extension": ".py",
   "mimetype": "text/x-python",
   "name": "python",
   "nbconvert_exporter": "python",
   "pygments_lexer": "ipython3",
   "version": "3.6.4"
  }
 },
 "nbformat": 4,
 "nbformat_minor": 2
}
